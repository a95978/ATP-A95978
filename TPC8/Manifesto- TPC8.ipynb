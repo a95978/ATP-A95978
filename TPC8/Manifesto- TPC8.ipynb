{
 "cells": [
  {
   "cell_type": "markdown",
   "metadata": {},
   "source": [
    "# ATP    \n",
    "  \n",
    "## Processamento emd    \n",
    "  \n",
    "**Autor:** Marta Ferreira, a95978      \n",
    "**Supervisor:** José Carlos Ramalho, www.di.uminho.pt/~jcr/      \n",
    "**Identificador:** TPC8      \n",
    "**Título:** \"Processamento emd\"      \n",
    "**Data início:** 2020-11-29     \n",
    "**Data fim:** 2020-12-06    \n",
    "  \n",
    "**Resumo:**      \n",
    "Para a realização deste programa, foi utilizada a linguagem de programação python que se encontra no repositório ATP-a95978 do GitHub, com identificador TPC8 e contêm o ficheiro _Processamentoemd.ipynb_ onde se encontra o código que permite a sua execução e outro documento com a insterface _interfaceemd_. O objetivo do programa elaborado é utilizar uma base de dados que se encontra no documento _emd.csv_ e realizar o seu processamento através de funções que permitem a leitura, listagem, consulta de um registo, lista de modalidades,distribuição para cada dado e o seu respetivo gráfico. Para a realização destas funções, utilizaram-se estruturas de dados como listas e dicionários. A interface foi criada para aparecer uma janela com duas colunas com inumeras funcionalidades."
   ]
  }
 ],
 "metadata": {
  "kernelspec": {
   "display_name": "Python 3",
   "language": "python",
   "name": "python3"
  },
  "language_info": {
   "codemirror_mode": {
    "name": "ipython",
    "version": 3
   },
   "file_extension": ".py",
   "mimetype": "text/x-python",
   "name": "python",
   "nbconvert_exporter": "python",
   "pygments_lexer": "ipython3",
   "version": "3.8.3"
  }
 },
 "nbformat": 4,
 "nbformat_minor": 4
}
