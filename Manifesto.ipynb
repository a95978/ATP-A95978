{
 "cells": [
  {
   "cell_type": "markdown",
   "metadata": {},
   "source": [
    "# ATP\n",
    "\n",
    "**TPC2 - Jogo adivinhar o número**\n",
    "\n",
    "**Autor:** Marta Ferreira, a95978  \n",
    "**Supervisor:** José Carlos Ramalho, www.di.uminho.pt/~jcr/\n",
    "**Identificador:** TPC2\n",
    "**Título:** \"TPC2- Jogo divinhar o número\"\n",
    "**Data início:** 2020-10-11\n",
    "**Data fim:** 2020-10-17\n",
    "\n",
    "**Resumo:**\n",
    "Para a realização deste jogo, foi utilizada a linguagem de programação python que se encontra no repositório _ATP-a95978_ do GitHub na pasta denominada TPC2 juntamente com o ficheiro TPC2.ipynb onde se encontra o código do jogo que permite a sua execução \n",
    "O objetivo do programa elaborado é o computador descobrir o número aleatório que o utilizador está a pensar entre 0 e 100, com o menor número de tentativas possíveis, através da função (_numpensa()_). Esta essencialmente baseia-se numa procura binária cujo o utilizador vai dando informações se o número se encontra em cima ou em baixo do número sugerido. É também utilizado um ciclo até ser encontrado o valor pretendido(_encontrado=True_). \n"
   ]
  },
  {
   "cell_type": "code",
   "execution_count": null,
   "metadata": {},
   "outputs": [],
   "source": []
  },
  {
   "cell_type": "code",
   "execution_count": null,
   "metadata": {},
   "outputs": [],
   "source": []
  }
 ],
 "metadata": {
  "kernelspec": {
   "display_name": "Python 3",
   "language": "python",
   "name": "python3"
  },
  "language_info": {
   "codemirror_mode": {
    "name": "ipython",
    "version": 3
   },
   "file_extension": ".py",
   "mimetype": "text/x-python",
   "name": "python",
   "nbconvert_exporter": "python",
   "pygments_lexer": "ipython3",
   "version": "3.8.3"
  }
 },
 "nbformat": 4,
 "nbformat_minor": 4
}
