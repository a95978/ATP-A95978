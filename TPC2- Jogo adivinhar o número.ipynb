{
 "cells": [
  {
   "cell_type": "code",
   "execution_count": null,
   "metadata": {},
   "outputs": [],
   "source": [
    "def numpensa():\n",
    "    print(\"Pense num número entre 0 e 100.\")\n",
    "    encontrado=False\n",
    "    total=100\n",
    "    total2=total//2 #Valor em que estamos ex: 50,75,...\n",
    "    total3=total//2 #Valor a somar ex: 25,12,6...\n",
    "    while (encontrado==False):\n",
    "        print(total2)\n",
    "        numencontr=input(\"É este o número?\")\n",
    "        if(numencontr==\"Sim\" or numencontr==\"sim\"):\n",
    "            encontrado=True\n",
    "            print(\"Encontramos o seu número. Obrigado por ter jogado.\")\n",
    "        else:\n",
    "            onde=input(str(\"Cima ou baixo?\"))\n",
    "            if(onde==\"cima\" or onde==\"Cima\" ):\n",
    "                total3=total3//2\n",
    "                if(total3==0): total3=1\n",
    "                total2=total2+total3\n",
    "            elif(onde==\"baixo\" or onde==\"Baixo\"):\n",
    "                total3=total3//2\n",
    "                if(total3==0): total3=1\n",
    "                total2=total2-total3\n",
    "            else:\n",
    "                print(\"Inválido.\")\n",
    "\n",
    "if __name__ == \"__main__\":\n",
    "    numpensa()"
   ]
  },
  {
   "cell_type": "code",
   "execution_count": null,
   "metadata": {},
   "outputs": [],
   "source": []
  },
  {
   "cell_type": "code",
   "execution_count": null,
   "metadata": {},
   "outputs": [],
   "source": []
  },
  {
   "cell_type": "code",
   "execution_count": null,
   "metadata": {},
   "outputs": [],
   "source": []
  }
 ],
 "metadata": {
  "kernelspec": {
   "display_name": "Python 3",
   "language": "python",
   "name": "python3"
  },
  "language_info": {
   "codemirror_mode": {
    "name": "ipython",
    "version": 3
   },
   "file_extension": ".py",
   "mimetype": "text/x-python",
   "name": "python",
   "nbconvert_exporter": "python",
   "pygments_lexer": "ipython3",
   "version": "3.8.3"
  }
 },
 "nbformat": 4,
 "nbformat_minor": 4
}
