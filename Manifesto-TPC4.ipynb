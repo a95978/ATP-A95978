{
 "cells": [
  {
   "cell_type": "markdown",
   "metadata": {},
   "source": [
    "# ATP\n",
    "## Frações\n",
    "\n",
    "**Autor:** Marta Ferreira, a95978  \n",
    "**Supervisor:** José Carlos Ramalho, www.di.uminho.pt/~jcr/  \n",
    "**Identificador:** TPC4  \n",
    "**Título:** \"Frações\"  \n",
    "**Data início:** 2020-10-25  \n",
    "**Data fim:** 2020-11-01  \n",
    "\n",
    "**Resumo:**  \n",
    "Para a realização deste jogo, foi utilizada a linguagem de programação python que se encontra no repositório _ATP-a95978_ do GitHub na pasta denominada TPC4 com o ficheiro _Frações.ipynb_ onde se encontra o código que permite a sua execução.  \n",
    "O objetivo do programa elaborado é a criação de um menu que permite ao utilizador criar frações, simplificá-las, efetuar operações com as mesmas ou criar uma lista com frações aleatórias e posteriormente o computador descobrir o máximo dessa lista e efetuar somas entre os seus elementos. Para a criação das frações foram utilizados tuplos constitudos pelo numeraodr e o denominador, ou seja, todas as funções têm como base essa estrutura de dados."
   ]
  },
  {
   "cell_type": "code",
   "execution_count": null,
   "metadata": {},
   "outputs": [],
   "source": []
  }
 ],
 "metadata": {
  "kernelspec": {
   "display_name": "Python 3",
   "language": "python",
   "name": "python3"
  },
  "language_info": {
   "codemirror_mode": {
    "name": "ipython",
    "version": 3
   },
   "file_extension": ".py",
   "mimetype": "text/x-python",
   "name": "python",
   "nbconvert_exporter": "python",
   "pygments_lexer": "ipython3",
   "version": "3.8.3"
  }
 },
 "nbformat": 4,
 "nbformat_minor": 4
}
