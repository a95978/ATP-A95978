{
 "cells": [
  {
   "cell_type": "markdown",
   "metadata": {},
   "source": [
    "# ATP  \n",
    "  \n",
    "## Polinómios  \n",
    "  \n",
    "**Autor:** Marta Ferreira, a95978  \n",
    "**Supervisor:** José Carlos Ramalho, www.di.uminho.pt/~jcr/  \n",
    "**Identificador:** TPC5  \n",
    "**Título:** \"Polinómios\"  \n",
    "**Data início:** 2020-10-08  \n",
    "**Data fim:** 2020-11-15  \n",
    "  \n",
    "**Resumo:**  \n",
    "Para a realização deste programa, foi utilizada a linguagem de programação python que se encontra no repositório ATP-a95978 do GitHub, com identificador TPC5 e contêm o ficheiro Polinómios.ipynb onde se encontra o código que permite a sua execução.\n",
    "O objetivo do programa elaborado é a criação de um menu que permite ao utilizador criar polinómios, simplificá-los, calcular o polinómio ou a sua derivada e ainda criar uma tabela para vários valores de x. Para a criação dos polinómios foram listas de tuplos constitudos pelo coeficiente e o expoente, ou seja, todas as funções têm como base essa estrutura de dados."
   ]
  },
  {
   "cell_type": "code",
   "execution_count": null,
   "metadata": {},
   "outputs": [],
   "source": []
  }
 ],
 "metadata": {
  "kernelspec": {
   "display_name": "Python 3",
   "language": "python",
   "name": "python3"
  },
  "language_info": {
   "codemirror_mode": {
    "name": "ipython",
    "version": 3
   },
   "file_extension": ".py",
   "mimetype": "text/x-python",
   "name": "python",
   "nbconvert_exporter": "python",
   "pygments_lexer": "ipython3",
   "version": "3.8.3"
  }
 },
 "nbformat": 4,
 "nbformat_minor": 4
}
