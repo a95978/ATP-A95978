{
 "cells": [
  {
   "cell_type": "markdown",
   "metadata": {},
   "source": [
    "# ATP\n",
    "\n",
    "**listasBubbleSort**\n",
    "\n",
    "**Autor:** Marta Ferreira, a95978  \n",
    "**Supervisor:** José Carlos Ramalho, www.di.uminho.pt/~jcr/  \n",
    "**Identificador:** TPC3  \n",
    "**Título:** \"Listas- bubbleSort\"  \n",
    "**Data início:** 2020-10-18   \n",
    "**Data fim:** 2020-10-25  \n",
    "\n",
    "**Resumo:**  \n",
    "Para a realização deste jogo, foi utilizada a linguagem de programação python que se encontra no repositório _ATP-a95978_ do GitHub na pasta denominada TPC3 juntamente com o ficheiro _listasbubblesort.ipynb_ onde se encontra o código do jogo que permite a sua execução.  \n",
    "O objetivo do programa elaborado é a criação de um menu que permite o utilizador criar a própria lista ou criar uma lista com números aleatórios e posteriormente o computador descobrir o máximo dessa lista ou apresentar a lista ordenada. Para esta última função foi utilizada o método de percorrer a lista comparando sempre o elemento anterior com o seguinte e efetuando a troca se fosse maior (_bubbleSort()_). Esta função termina quando já não existerem mais trocas a efetuar na lista."
   ]
  }
 ],
 "metadata": {
  "kernelspec": {
   "display_name": "Python 3",
   "language": "python",
   "name": "python3"
  },
  "language_info": {
   "codemirror_mode": {
    "name": "ipython",
    "version": 3
   },
   "file_extension": ".py",
   "mimetype": "text/x-python",
   "name": "python",
   "nbconvert_exporter": "python",
   "pygments_lexer": "ipython3",
   "version": "3.8.3"
  }
 },
 "nbformat": 4,
 "nbformat_minor": 4
}
