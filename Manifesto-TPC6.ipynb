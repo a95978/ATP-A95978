{
 "cells": [
  {
   "cell_type": "markdown",
   "metadata": {},
   "source": [
    "# ATP  \n",
    "  \n",
    "## Gráfico  \n",
    "  \n",
    "**Autor:** Marta Ferreira, a95978  \n",
    "**Supervisor:** José Carlos Ramalho, www.di.uminho.pt/~jcr/  \n",
    "**Identificador:** TPC6  \n",
    "**Título:** \"TPC6-Grafico\"  \n",
    "**Data início:** 2020-11-15  \n",
    "**Data fim:** 2020-11-22  \n",
    "  \n",
    "**Resumo:**  \n",
    "Para a realização deste programa, foi utilizada a linguagem de programação python que se encontra no repositório ATP-a95978 do GitHub, com identificador TPC6 e contêm o ficheiro TPC6-Grafico.ipynb onde se encontra o código que permite a sua execução.Ao ficheiro TPC5 resolvido na semana anterior acrescentei a função _grafico()_ que permite a visualização dos polinómios gráfico."
   ]
  }
 ],
 "metadata": {
  "kernelspec": {
   "display_name": "Python 3",
   "language": "python",
   "name": "python3"
  },
  "language_info": {
   "codemirror_mode": {
    "name": "ipython",
    "version": 3
   },
   "file_extension": ".py",
   "mimetype": "text/x-python",
   "name": "python",
   "nbconvert_exporter": "python",
   "pygments_lexer": "ipython3",
   "version": "3.8.3"
  }
 },
 "nbformat": 4,
 "nbformat_minor": 4
}
